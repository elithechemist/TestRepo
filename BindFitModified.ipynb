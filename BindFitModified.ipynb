{
 "cells": [
  {
   "attachments": {},
   "cell_type": "markdown",
   "metadata": {},
   "source": [
    "# Import Data from XLS"
   ]
  },
  {
   "cell_type": "code",
   "execution_count": 94,
   "metadata": {},
   "outputs": [],
   "source": [
    "# Second commit\n",
    "\n",
    "import pandas as pd\n",
    "import numpy as np\n",
    "\n",
    "def xls_to_np(file_path, num_therms=1):\n",
    "    # Generate numpy arrays to store isotherm data\n",
    "    host_conc = np.empty(num_therms, dtype=object)\n",
    "    guest_conc = np.empty(num_therms, dtype=object)\n",
    "    response = np.empty(num_therms, dtype=object)\n",
    "\n",
    "    # Open \n",
    "    data_as_pd = pd.read_excel(file_path)\n",
    "\n",
    "    for i in range(num_therms):\n",
    "        host_conc[i] = data_as_pd['Guest Concentration ' + str(i + 1)].values\n",
    "        guest_conc[i] = data_as_pd['Guest Concentration ' + str(i + 1)].values\n",
    "        response[i] = data_as_pd['Response ' + str(i + 1)].values\n",
    "\n",
    "    return host_conc, guest_conc, response"
   ]
  },
  {
   "attachments": {},
   "cell_type": "markdown",
   "metadata": {},
   "source": [
    "# NMR 1:1 Model"
   ]
  },
  {
   "cell_type": "code",
   "execution_count": 89,
   "metadata": {},
   "outputs": [],
   "source": [
    "def nmr_1to1(k, host_conc, guest_conc):\n",
    "    \"\"\"\n",
    "    Calculates predicted [HG] given data object parameters as input.\n",
    "    \"\"\"\n",
    " \n",
    "    h0 = host_conc\n",
    "    g0 = guest_conc\n",
    "\n",
    "    # Calculate predicted [HG] concentration given input [H]0, [G]0 matrices \n",
    "    # and Ka guess\n",
    "    hg = 0.5*(\\\n",
    "             (g0 + h0 + (1/k)) - \\\n",
    "             np.lib.scimath.sqrt(((g0+h0+(1/k))**2)-(4*((g0*h0))))\\\n",
    "             )\n",
    "    h  = h0 - hg\n",
    "\n",
    "    # Replace any non-real solutions with sqrt(h0*g0) \n",
    "    inds = np.imag(hg) > 0\n",
    "    hg[inds] = np.sqrt(h0[inds] * g0[inds])\n",
    "\n",
    "    # Convert [HG] concentration to molefraction for NMR\n",
    "    hg /= h0\n",
    "    h  /= h0\n",
    "\n",
    "    return hg, h"
   ]
  },
  {
   "attachments": {},
   "cell_type": "markdown",
   "metadata": {},
   "source": [
    "# Scale Data (Convert Chemical Shift to Relative Units)"
   ]
  },
  {
   "cell_type": "code",
   "execution_count": 90,
   "metadata": {},
   "outputs": [],
   "source": [
    "def scale_data(chem_shift_data, fitted_data=None, scale_data=False, manual_scale_factor=0):\n",
    "    # Subtract initial chemical shift\n",
    "    init_chem_shift = chem_shift_data[0]\n",
    "    zeroed_data = chem_shift_data - init_chem_shift\n",
    "    if scale_data == True:\n",
    "        scale_factor = manual_scale_factor\n",
    "    else:\n",
    "        scale_factor = fitted_data[-1] / zeroed_data[-1]\n",
    "    return zeroed_data * scale_factor"
   ]
  },
  {
   "attachments": {},
   "cell_type": "markdown",
   "metadata": {},
   "source": [
    "# Optimization by Nelder-Mead"
   ]
  },
  {
   "cell_type": "code",
   "execution_count": 97,
   "metadata": {},
   "outputs": [
    {
     "name": "stdout",
     "output_type": "stream",
     "text": [
      "Binding Constant: 7362.465524503459\n",
      "Scaling Factor: 0.12332016583474417\n",
      "Intercept: 0.7877348917132698\n"
     ]
    }
   ],
   "source": [
    "import numpy as np\n",
    "from scipy.optimize import minimize\n",
    "\n",
    "INITIAL_GUESS = np.array([400, 0.5, 0])\n",
    "init_host_conc, init_guest_conc, response = xls_to_np(\"C:\\\\Users\\\\elijo\\\\OneDrive\\\\Desktop\\\\YC4xp.xlsx\")\n",
    "init_host_conc = init_host_conc[0]\n",
    "init_guest_conc = init_guest_conc[0]\n",
    "response = response[0]\n",
    "\n",
    "#print(init_host_conc)\n",
    "\n",
    "def cost_function(args):\n",
    "    # Arguments\n",
    "    binding_constant = args[0]\n",
    "    scale_factor = args[1]\n",
    "    intercept = args[2]\n",
    "\n",
    "    # Generate predicted response\n",
    "    pred_response =  nmr_1to1(binding_constant, init_host_conc, init_guest_conc)[0]\n",
    "    pred_response -= intercept\n",
    "    \n",
    "    # Scale experimental data by manual_scale_factor\n",
    "    new_response = scale_data(response, scale_data=True, manual_scale_factor=scale_factor)\n",
    "\n",
    "    # Determine number of elements\n",
    "    max_value = new_response[-1]\n",
    "\n",
    "    # Calculate MSE\n",
    "    mse = np.mean(((pred_response - new_response)/max_value)**2)\n",
    "    return mse\n",
    "\n",
    "def minimize_function():\n",
    "    result = minimize(cost_function, INITIAL_GUESS, method='nelder-mead')\n",
    "    return result.x[0], result.x[1], result.x[2]\n",
    "\n",
    "print(\"Binding Constant: \" + str(minimize_function()[0]))\n",
    "print(\"Scaling Factor: \" + str(minimize_function()[1]))\n",
    "print(\"Intercept: \" + str(minimize_function()[2]))"
   ]
  },
  {
   "attachments": {},
   "cell_type": "markdown",
   "metadata": {},
   "source": [
    "# Implement"
   ]
  },
  {
   "cell_type": "code",
   "execution_count": 99,
   "metadata": {},
   "outputs": [
    {
     "data": {
      "text/plain": [
       "[<matplotlib.lines.Line2D at 0x17817eec350>]"
      ]
     },
     "execution_count": 99,
     "metadata": {},
     "output_type": "execute_result"
    },
    {
     "data": {
      "image/png": "[encoded data removed]",
      "text/plain": [
       "<Figure size 640x480 with 1 Axes>"
      ]
     },
     "metadata": {},
     "output_type": "display_data"
    }
   ],
   "source": [
    "import matplotlib.pyplot as plt\n",
    "\n",
    "#init_host_conc, init_guest_conc, response = xls_to_np(\"C:\\\\Users\\\\elijo\\\\OneDrive\\\\Desktop\\\\YC4xp.xlsx\")\n",
    "binding_constant, scaling_factor, intercept = minimize_function()\n",
    "\n",
    "# Generate predicted response\n",
    "pred_response =  nmr_1to1(binding_constant, init_host_conc, init_guest_conc)[0]\n",
    "pred_response -= intercept\n",
    "\n",
    "# Scale experimental data by manual_scale_factor\n",
    "new_response = scale_data(response, scale_data=True, manual_scale_factor=scaling_factor)\n",
    "\n",
    "plt.plot(init_guest_conc, pred_response, color='blue')\n",
    "#plt.scatter(init_guest_conc, response, color='red')\n",
    "\n",
    "#print(cost_function(d1, scale_factor))\n",
    "\n",
    "#x_axis = np.linspace(653.4, 654.3, num=50)\n",
    "#reaction = np.zeros(50)\n",
    "#for i in range(50):\n",
    "    #reaction[i] = cost_function(x_axis[i], scale_factor)\n",
    "#plt.scatter(thinie, reaction)\n"
   ]
  }
 ],
 "metadata": {
  "kernelspec": {
   "display_name": "Python 3",
   "language": "python",
   "name": "python3"
  },
  "language_info": {
   "codemirror_mode": {
    "name": "ipython",
    "version": 3
   },
   "file_extension": ".py",
   "mimetype": "text/x-python",
   "name": "python",
   "nbconvert_exporter": "python",
   "pygments_lexer": "ipython3",
   "version": "3.11.1"
  },
  "orig_nbformat": 4,
  "vscode": {
   "interpreter": {
    "hash": "b7d1c5f632dc4322a8c54d407e0e9c00f767eac7782bcad98f7db085488e7235"
   }
  }
 },
 "nbformat": 4,
 "nbformat_minor": 2
}
